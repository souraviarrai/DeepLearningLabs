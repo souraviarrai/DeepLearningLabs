{
 "cells": [
  {
   "cell_type": "code",
   "execution_count": 2,
   "id": "6515ce29",
   "metadata": {},
   "outputs": [],
   "source": [
    "import cv2  \n",
    "import numpy as np"
   ]
  },
  {
   "cell_type": "code",
   "execution_count": null,
   "id": "969da9fe",
   "metadata": {},
   "outputs": [],
   "source": [
    "def nothing(x):\n",
    "    pass\n",
    "\n",
    "\n",
    "if __name__ == '__main__':\n",
    "\n",
    "    cap = cv2.VideoCapture(1)\n",
    "\n",
    "    cv2.namedWindow(\"HSV Value\")\n",
    "    cv2.createTrackbar(\"H MIN\", \"HSV Value\", 0, 179, nothing)\n",
    "    cv2.createTrackbar(\"S MIN\", \"HSV Value\", 0, 255, nothing)\n",
    "    cv2.createTrackbar(\"V MIN\", \"HSV Value\", 0, 255, nothing)\n",
    "    cv2.createTrackbar(\"H MAX\", \"HSV Value\", 179, 179, nothing)\n",
    "    cv2.createTrackbar(\"S MAX\", \"HSV Value\", 255, 255, nothing)\n",
    "    cv2.createTrackbar(\"V MAX\", \"HSV Value\", 255, 255, nothing)\n",
    "\n",
    "    while True:\n",
    "        _, frame = cap.read()\n",
    "        hsv = cv2.cvtColor(frame, cv2.COLOR_BGR2HSV)\n",
    "\n",
    "        h_min = cv2.getTrackbarPos(\"H MIN\", \"HSV Value\")\n",
    "        s_min = cv2.getTrackbarPos(\"S MIN\", \"HSV Value\")\n",
    "        v_min = cv2.getTrackbarPos(\"V MIN\", \"HSV Value\")\n",
    "        h_max = cv2.getTrackbarPos(\"H MAX\", \"HSV Value\")\n",
    "        s_max = cv2.getTrackbarPos(\"S MAX\", \"HSV Value\")\n",
    "        v_max = cv2.getTrackbarPos(\"V MAX\", \"HSV Value\")\n",
    "\n",
    "        lower_blue = np.array([h_min, s_min, v_min])\n",
    "        upper_blue = np.array([h_max, s_max, v_max])\n",
    "\n",
    "        hsv_min=\"MIN H:{} S:{} V:{}\".format(h_min,s_min,v_min)\n",
    "        hsv_max = \"MAX H:{} S:{} V:{}\".format(h_max, s_max, v_max)\n",
    "\n",
    "        mask = cv2.inRange(hsv, lower_blue, upper_blue)\n",
    "\n",
    "        result = cv2.bitwise_and(frame, frame, mask=mask)\n",
    "\n",
    "        cv2.putText(frame, hsv_min, (10, 30), cv2.FONT_HERSHEY_SIMPLEX, 1, (0, 0, 255), 2)\n",
    "        cv2.putText(frame, hsv_max, (10, 80), cv2.FONT_HERSHEY_SIMPLEX, 1, (0, 0, 255), 2)\n",
    "\n",
    "        cv2.imshow(\"HSV Value\", frame)\n",
    "        cv2.imshow(\"Mask\", mask)\n",
    "        cv2.imshow(\"Frame Mask\", result)\n",
    "\n",
    "        key = cv2.waitKey(1)\n",
    "        if key == 27:\n",
    "            break\n",
    "\n",
    "    cap.release()\n",
    "    cv2.destroyAllWindows()"
   ]
  }
 ],
 "metadata": {
  "kernelspec": {
   "display_name": "Python 3 (ipykernel)",
   "language": "python",
   "name": "python3"
  },
  "language_info": {
   "codemirror_mode": {
    "name": "ipython",
    "version": 3
   },
   "file_extension": ".py",
   "mimetype": "text/x-python",
   "name": "python",
   "nbconvert_exporter": "python",
   "pygments_lexer": "ipython3",
   "version": "3.9.13"
  }
 },
 "nbformat": 4,
 "nbformat_minor": 5
}
