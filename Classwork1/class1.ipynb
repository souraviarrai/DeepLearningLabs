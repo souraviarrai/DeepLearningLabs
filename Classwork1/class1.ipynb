{
 "cells": [
  {
   "cell_type": "code",
   "execution_count": 1,
   "id": "19f2c7af",
   "metadata": {},
   "outputs": [],
   "source": [
    "import numpy as np\n",
    "import cv2 as cv\n",
    "\n",
    "\n",
    " "
   ]
  },
  {
   "cell_type": "code",
   "execution_count": 2,
   "id": "e8839687",
   "metadata": {},
   "outputs": [],
   "source": [
    "cap = cv.VideoCapture(1)\n",
    "while True:\n",
    "    # Read frame by frame\n",
    "    ret, frame = cap.read()\n",
    "    # Convert the BGR to HSV\n",
    "    hsv = cv.cvtColor(frame, cv.COLOR_BGR2HSV)\n",
    "    lower_green = np.array([51, 105, 106])\n",
    "    upper_green = np.array([69, 245, 245])\n",
    "    # Mask the colors\n",
    "    mask = cv.inRange(hsv, lower_green, upper_green)\n",
    "    result = cv.bitwise_and(frame, frame, mask = mask)\n",
    "    cv.imshow('Orignal',frame)\n",
    "    cv.imshow('Mask',mask)\n",
    "    cv.imshow('Result', result)\n",
    "    if cv.waitKey(1) == ord('q'):\n",
    "        break"
   ]
  }
 ],
 "metadata": {
  "kernelspec": {
   "display_name": "Python 3 (ipykernel)",
   "language": "python",
   "name": "python3"
  },
  "language_info": {
   "codemirror_mode": {
    "name": "ipython",
    "version": 3
   },
   "file_extension": ".py",
   "mimetype": "text/x-python",
   "name": "python",
   "nbconvert_exporter": "python",
   "pygments_lexer": "ipython3",
   "version": "3.9.13"
  }
 },
 "nbformat": 4,
 "nbformat_minor": 5
}
