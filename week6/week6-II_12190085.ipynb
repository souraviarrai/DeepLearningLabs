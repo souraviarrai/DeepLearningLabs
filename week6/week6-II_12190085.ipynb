{
  "cells": [
    {
      "cell_type": "code",
      "execution_count": 81,
      "metadata": {
        "id": "IzTgXRocIIcl"
      },
      "outputs": [],
      "source": [
        "import tensorflow as tf\n",
        "import pandas as pd\n",
        "\n"
      ]
    },
    {
      "cell_type": "code",
      "execution_count": 82,
      "metadata": {
        "colab": {
          "base_uri": "https://localhost:8080/"
        },
        "id": "GFVp0qyAIOtc",
        "outputId": "531413c5-2b12-404f-bcde-eea55857e076"
      },
      "outputs": [
        {
          "data": {
            "text/plain": [
              "<tf.Variable 'Variable:0' shape=(3, 3) dtype=int32, numpy=\n",
              "array([[  5,  10,  15],\n",
              "       [ 10,  20,  30],\n",
              "       [100, 150, 200]], dtype=int32)>"
            ]
          },
          "execution_count": 82,
          "metadata": {},
          "output_type": "execute_result"
        }
      ],
      "source": [
        "A = tf.Variable([[5, 10, 15], [10, 20, 30], [100, 150, 200]])\n",
        "A \n"
      ]
    },
    {
      "cell_type": "code",
      "execution_count": 83,
      "metadata": {
        "colab": {
          "base_uri": "https://localhost:8080/"
        },
        "id": "swn4GPN3IQdL",
        "outputId": "d43d4056-9ed1-4105-81e4-b5969d0eb399"
      },
      "outputs": [
        {
          "data": {
            "text/plain": [
              "<tf.Variable 'Variable:0' shape=(3, 3) dtype=int32, numpy=\n",
              "array([[ 1,  0, -1],\n",
              "       [ 2,  0, -2],\n",
              "       [ 1,  0, -1]], dtype=int32)>"
            ]
          },
          "execution_count": 83,
          "metadata": {},
          "output_type": "execute_result"
        }
      ],
      "source": [
        "B = tf.Variable([[1, 0, -1], [2, 0, -2], [1, 0, -1]])\n",
        "B"
      ]
    },
    {
      "cell_type": "code",
      "execution_count": 84,
      "metadata": {
        "colab": {
          "base_uri": "https://localhost:8080/"
        },
        "id": "ohTH1yF9IUFK",
        "outputId": "af3db45f-294d-440f-8808-4cf51a7084e7"
      },
      "outputs": [
        {
          "data": {
            "text/plain": [
              "<tf.Tensor: shape=(3, 3), dtype=int32, numpy=\n",
              "array([[   5,    0,  -15],\n",
              "       [  20,    0,  -60],\n",
              "       [ 100,    0, -200]], dtype=int32)>"
            ]
          },
          "execution_count": 84,
          "metadata": {},
          "output_type": "execute_result"
        }
      ],
      "source": [
        "mult_out = tf.math.multiply(A, B)\n",
        "mult_out\n"
      ]
    },
    {
      "cell_type": "code",
      "execution_count": 85,
      "metadata": {
        "colab": {
          "base_uri": "https://localhost:8080/"
        },
        "id": "rSrwQ88sIWQa",
        "outputId": "8562d95d-40ef-40f4-c35c-07b25716d709"
      },
      "outputs": [
        {
          "data": {
            "text/plain": [
              "<tf.Tensor: shape=(), dtype=int32, numpy=-150>"
            ]
          },
          "execution_count": 85,
          "metadata": {},
          "output_type": "execute_result"
        }
      ],
      "source": [
        "conv_out = tf.math.reduce_sum(mult_out)\n",
        "conv_out\n"
      ]
    },
    {
      "cell_type": "markdown",
      "metadata": {
        "id": "wolpTKeoKyR6"
      },
      "source": [
        "# **Activity**"
      ]
    },
    {
      "cell_type": "code",
      "execution_count": 86,
      "metadata": {
        "id": "3wclG9rDYg_0"
      },
      "outputs": [],
      "source": [
        "A = [[5, 10,15],\n",
        "       [10,20,30],\n",
        "       [100,150,200]]\n",
        "\n",
        "B = [[1,0,-1],[2,0,-2],[1,0,-1]]"
      ]
    },
    {
      "cell_type": "code",
      "execution_count": 87,
      "metadata": {
        "colab": {
          "base_uri": "https://localhost:8080/"
        },
        "id": "blQjBoUpYOqT",
        "outputId": "6eca05f4-7d1d-48bc-e509-619c22508a3d"
      },
      "outputs": [
        {
          "data": {
            "text/plain": [
              "[[5, 0, -15], [20, 0, -60], [100, 0, -200]]"
            ]
          },
          "execution_count": 87,
          "metadata": {},
          "output_type": "execute_result"
        }
      ],
      "source": [
        "def multiple(A,B):\n",
        "    result = [[0 for x in range(3)] for y in range(3)]\n",
        "    for i in range(len(A)):\n",
        "        for j in range(len(B)):\n",
        "            result[i][j]=A[i][j]*B[i][j]\n",
        "    return result\n",
        "\n",
        "res = multiple(A,B)\n",
        "res"
      ]
    },
    {
      "cell_type": "code",
      "execution_count": 87,
      "metadata": {
        "id": "mDBKZ_2_YOnb"
      },
      "outputs": [],
      "source": []
    },
    {
      "cell_type": "code",
      "execution_count": 88,
      "metadata": {
        "colab": {
          "base_uri": "https://localhost:8080/"
        },
        "id": "omra-BW9Pxm0",
        "outputId": "ca32b614-6ab3-45e7-aaf2-77d46af438ac"
      },
      "outputs": [
        {
          "name": "stdout",
          "output_type": "stream",
          "text": [
            "-150\n"
          ]
        }
      ],
      "source": [
        "grandtotal = 0\n",
        "for row in res:\n",
        "    total = 0\n",
        "    for i in row:\n",
        "        total += i\n",
        "    \n",
        "    grandtotal += total\n",
        "print(grandtotal)"
      ]
    },
    {
      "cell_type": "code",
      "execution_count": 88,
      "metadata": {
        "id": "gndKmB5yIZk6"
      },
      "outputs": [],
      "source": [
        "\n"
      ]
    },
    {
      "cell_type": "code",
      "execution_count": 88,
      "metadata": {
        "id": "TnmVpRriKku7"
      },
      "outputs": [],
      "source": [
        "\n",
        "\n",
        "\n",
        "\n"
      ]
    },
    {
      "cell_type": "code",
      "execution_count": 75,
      "metadata": {
        "id": "_DBnm8fpX38s"
      },
      "outputs": [],
      "source": []
    },
    {
      "cell_type": "code",
      "execution_count": null,
      "metadata": {
        "id": "dNORN394X-ws"
      },
      "outputs": [],
      "source": []
    }
  ],
  "metadata": {
    "colab": {
      "collapsed_sections": [],
      "provenance": []
    },
    "kernelspec": {
      "display_name": "Python 3",
      "name": "python3"
    },
    "language_info": {
      "name": "python"
    }
  },
  "nbformat": 4,
  "nbformat_minor": 0
}
