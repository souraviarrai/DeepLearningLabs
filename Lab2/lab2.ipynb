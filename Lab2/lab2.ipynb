{
 "cells": [
  {
   "cell_type": "code",
   "execution_count": 4,
   "id": "a3b24c05",
   "metadata": {},
   "outputs": [],
   "source": [
    "import cv2\n",
    "\n",
    "\n"
   ]
  },
  {
   "cell_type": "code",
   "execution_count": 5,
   "id": "cc90a2d2",
   "metadata": {},
   "outputs": [],
   "source": [
    "image = cv2.imread('/Users/souravrai/Desktop/Art/apple.jpg')\n"
   ]
  },
  {
   "cell_type": "code",
   "execution_count": 6,
   "id": "faf1efff",
   "metadata": {},
   "outputs": [],
   "source": [
    "\n",
    "hsvImage = cv2.cvtColor(image, cv2.COLOR_BGR2HSV)"
   ]
  },
  {
   "cell_type": "code",
   "execution_count": null,
   "id": "15aa2174",
   "metadata": {},
   "outputs": [],
   "source": [
    "cv2.imshow('Original image',image)\n",
    "cv2.imshow('HSV image', hsvImage)\n",
    "cv2.waitKey(0)\n",
    "cv2.destroyAllWindows()"
   ]
  },
  {
   "cell_type": "code",
   "execution_count": null,
   "id": "2e84d49e",
   "metadata": {},
   "outputs": [],
   "source": [
    "# capture.py\n",
    "import numpy as np\n",
    "import cv2\n",
    "\n",
    "# Capture video from camera\n",
    "# cap = cv2.VideoCapture(0)\n",
    "\n",
    "# Capture video from file\n",
    "cap = cv2.VideoCapture('/Users/souravrai/Downloads/ki.mp4')\n",
    "\n",
    "while(cap.isOpened()):\n",
    "    # Capture frame-by-frame\n",
    "    ret, frame = cap.read()\n",
    "\n",
    "    # Our operations on the frame come here\n",
    "    gray = cv2.cvtColor(frame, cv2.COLOR_BGR2GRAY)\n",
    "\n",
    "    # Display the resulting frame\n",
    "    cv2.imshow('frame',gray)\n",
    "    if cv2.waitKey(1) & 0xFF == ord('q'):\n",
    "        break\n",
    "\n",
    "# When everything done, release the capture\n",
    "cap.release()\n",
    "\n",
    "cv2.destroyAllWindows()"
   ]
  },
  {
   "cell_type": "code",
   "execution_count": null,
   "id": "564bbaab",
   "metadata": {},
   "outputs": [],
   "source": [
    "\n",
    "import cv2\n",
    "import numpy as np\n",
    "\n",
    "cap = cv2.VideoCapture('/Users/souravrai/Downloads/ki.mp4')\n",
    "\n",
    "while(1):\n",
    "\n",
    "    # Take each frame\n",
    "    _, frame = cap.read()\n",
    "\n",
    "    # Convert BGR to HSV\n",
    "    hsv = cv2.cvtColor(frame, cv2.COLOR_BGR2HSV)\n",
    "\n",
    "    # define range of blue color in HSV\n",
    "    lower_blue = np.array([110,50,50])\n",
    "    upper_blue = np.array([130,255,255])\n",
    "\n",
    "    # Threshold the HSV image to get only blue colors\n",
    "    mask = cv2.inRange(hsv, lower_blue, upper_blue)\n",
    "\n",
    "    # Bitwise-AND mask and original image\n",
    "    res = cv2.bitwise_and(frame,frame, mask= mask)\n",
    "\n",
    "    cv2.imshow('frame',frame)\n",
    "    cv2.imshow('mask',mask)\n",
    "    cv2.imshow('res',res)\n",
    "\n",
    "    k = cv2.waitKey(5) & 0xFF\n",
    "    if k == 27:\n",
    "        break\n",
    "\n",
    "cv2.destroyAllWindows()"
   ]
  },
  {
   "cell_type": "code",
   "execution_count": null,
   "id": "3bfc51ec",
   "metadata": {},
   "outputs": [],
   "source": [
    "import cv2\n",
    "import numpy as np\n",
    "# Load the image\n",
    "img = cv2.imread('/Users/souravrai/Downloads/mdb.png',0)\n",
    "\n",
    "#  Find width and height of image\n",
    "row, column = img.shape\n",
    "\n",
    "#  Create an zeros array to store the sliced image\n",
    "img1 = np.zeros((row,column),dtype = 'uint8')\n",
    "#  Specify the min and max range\n",
    "min_range = 10\n",
    "\n",
    "max_range = 60\n",
    "#  Loop over the input image and if pixel value lies in desired range set it to 255 otherwise set it to 0.\n",
    "for i in range(row):\n",
    "\n",
    "    for j in range(column):\n",
    "\n",
    "        if img[i,j]>min_range and img[i,j]<max_range: \n",
    "            img1[i,j] = 255\n",
    "\n",
    "        else: \n",
    "            img1[i,j] = 0\n",
    "\n",
    "#  Display the image\n",
    "cv2.imshow('sliced image', img1)\n",
    "cv2.waitKey(0)"
   ]
  }
 ],
 "metadata": {
  "kernelspec": {
   "display_name": "Python 3 (ipykernel)",
   "language": "python",
   "name": "python3"
  },
  "language_info": {
   "codemirror_mode": {
    "name": "ipython",
    "version": 3
   },
   "file_extension": ".py",
   "mimetype": "text/x-python",
   "name": "python",
   "nbconvert_exporter": "python",
   "pygments_lexer": "ipython3",
   "version": "3.9.13"
  }
 },
 "nbformat": 4,
 "nbformat_minor": 5
}
